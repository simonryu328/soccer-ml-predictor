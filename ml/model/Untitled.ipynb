{
 "cells": [
  {
   "cell_type": "code",
   "execution_count": 1,
   "id": "65f361c6-32da-4018-824e-b8b2073c1058",
   "metadata": {},
   "outputs": [],
   "source": [
    "import numpy as np"
   ]
  },
  {
   "cell_type": "code",
   "execution_count": 2,
   "id": "38a32aa9-e3ff-443d-9db5-bfe37db93e07",
   "metadata": {},
   "outputs": [],
   "source": [
    "a = np.array([1,2,3,4])"
   ]
  },
  {
   "cell_type": "code",
   "execution_count": 3,
   "id": "5b094042-11a1-48bb-ac83-1fe83b1af6be",
   "metadata": {},
   "outputs": [
    {
     "name": "stdout",
     "output_type": "stream",
     "text": [
      "[2]\n"
     ]
    }
   ],
   "source": [
    "print(a[[False, True, False, False]])"
   ]
  },
  {
   "cell_type": "code",
   "execution_count": 4,
   "id": "50754520-05c8-4849-aea2-c24bf72e5c98",
   "metadata": {},
   "outputs": [],
   "source": [
    "l = [21,13,19,3,11,5,18]"
   ]
  },
  {
   "cell_type": "code",
   "execution_count": 5,
   "id": "702db046-0b44-4d30-a2da-5b9c1448c606",
   "metadata": {},
   "outputs": [],
   "source": [
    "l.sort()"
   ]
  },
  {
   "cell_type": "code",
   "execution_count": 8,
   "id": "c98c7391-6ed6-4876-867b-068b4b068148",
   "metadata": {},
   "outputs": [
    {
     "data": {
      "text/plain": [
       "13"
      ]
     },
     "execution_count": 8,
     "metadata": {},
     "output_type": "execute_result"
    }
   ],
   "source": [
    "l[len(l) // 2]"
   ]
  },
  {
   "cell_type": "code",
   "execution_count": 9,
   "id": "57d0353e-cec4-4951-83fb-735325c9dafe",
   "metadata": {},
   "outputs": [],
   "source": [
    "x = {1,2,3,4,5}"
   ]
  },
  {
   "cell_type": "code",
   "execution_count": 10,
   "id": "62903a8d-4416-4a9f-a408-253594c79e4e",
   "metadata": {},
   "outputs": [],
   "source": [
    "x.add(5)"
   ]
  },
  {
   "cell_type": "code",
   "execution_count": 11,
   "id": "f48859b8-dc70-4373-9879-c2a469aacb67",
   "metadata": {},
   "outputs": [],
   "source": [
    "x.add(6)"
   ]
  },
  {
   "cell_type": "code",
   "execution_count": 12,
   "id": "9f549d83-76cb-4056-85a4-f72f7874e089",
   "metadata": {},
   "outputs": [
    {
     "data": {
      "text/plain": [
       "{1, 2, 3, 4, 5, 6}"
      ]
     },
     "execution_count": 12,
     "metadata": {},
     "output_type": "execute_result"
    }
   ],
   "source": [
    "x"
   ]
  }
 ],
 "metadata": {
  "kernelspec": {
   "display_name": "Python 3",
   "language": "python",
   "name": "python3"
  },
  "language_info": {
   "codemirror_mode": {
    "name": "ipython",
    "version": 3
   },
   "file_extension": ".py",
   "mimetype": "text/x-python",
   "name": "python",
   "nbconvert_exporter": "python",
   "pygments_lexer": "ipython3",
   "version": "3.9.5"
  }
 },
 "nbformat": 4,
 "nbformat_minor": 5
}
