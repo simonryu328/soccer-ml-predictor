{
 "cells": [
  {
   "cell_type": "code",
   "execution_count": 1,
   "id": "25567cbf-b239-44a3-9f06-d60d67e33094",
   "metadata": {},
   "outputs": [],
   "source": [
    "import pandas as pd\n",
    "import numpy as np\n",
    "import time\n",
    "import os\n",
    "import pickle\n",
    "from sklearn.model_selection import cross_val_score\n",
    "from sklearn.model_selection import train_test_split\n",
    "from sklearn.linear_model import LogisticRegression\n",
    "from sklearn.ensemble import RandomForestClassifier\n",
    "from sklearn.ensemble import GradientBoostingClassifier\n",
    "from sklearn.neighbors import KNeighborsClassifier\n",
    "from sklearn.preprocessing import MinMaxScaler\n",
    "from sklearn.metrics import accuracy_score\n",
    "from sklearn.metrics import classification_report\n",
    "from sklearn.feature_selection import RFE\n",
    "import matplotlib.pyplot as plt\n",
    "from sklearn.model_selection import GridSearchCV"
   ]
  },
  {
   "cell_type": "code",
   "execution_count": 2,
   "id": "6fffa98e-c372-435c-92b1-0c8c591c36a7",
   "metadata": {},
   "outputs": [],
   "source": [
    "BASE_DIR = os.path.dirname(os.path.abspath('__file__'))\n",
    "DATA_DIR = os.path.join(BASE_DIR, 'data', 'featured', 'epl_matches_featured.csv')\n",
    "MODEL_DIR = os.path.join(BASE_DIR, 'model')"
   ]
  },
  {
   "cell_type": "code",
   "execution_count": 3,
   "id": "30a28a75-b451-4a40-bef2-d77236e83201",
   "metadata": {},
   "outputs": [],
   "source": [
    "df = pd.read_csv(DATA_DIR)"
   ]
  },
  {
   "cell_type": "code",
   "execution_count": 4,
   "id": "7e25eb88-301a-434e-ac29-8aa43ddf40ff",
   "metadata": {},
   "outputs": [],
   "source": [
    "# dropping columns that should be unknown before an actual match\n",
    "cols_to_drop = ['season','date','h_team','a_team','h_score', 'a_score', 'h_match_points', 'a_match_points']\n",
    "df.drop( columns = cols_to_drop, inplace = True)"
   ]
  },
  {
   "cell_type": "code",
   "execution_count": 5,
   "id": "04abd575-29a3-4588-9876-81c6c776b52e",
   "metadata": {},
   "outputs": [],
   "source": [
    "# Integer encoding\n",
    "df['winner'] = np.where(df.winner == 'h', 2, np.where(df.winner == 'a', 1, 0))"
   ]
  },
  {
   "cell_type": "code",
   "execution_count": 6,
   "id": "c9c7b1fd-b274-4576-854a-5edb66471fb0",
   "metadata": {},
   "outputs": [],
   "source": [
    "#turning categorical into dummy vars\n",
    "df_dum = pd.get_dummies(df)"
   ]
  },
  {
   "cell_type": "code",
   "execution_count": 7,
   "id": "28eed9c2-09a8-4a17-a6c4-cf21edfdf7b1",
   "metadata": {},
   "outputs": [],
   "source": [
    "np.random.seed(101)"
   ]
  },
  {
   "cell_type": "code",
   "execution_count": 8,
   "id": "b1e9e40d-2aec-427a-b2cf-8afa3a068fea",
   "metadata": {},
   "outputs": [
    {
     "data": {
      "text/plain": [
       "Index(['winner', 'h_odd', 'd_odd', 'a_odd', 'h_standing', 'a_standing',\n",
       "       'ht_pts', 'ht_goals_for', 'ht_goals_against', 'at_pts', 'at_goals_for',\n",
       "       'at_goals_against', 'h_ewm_points', 'h_ewm_goals_for',\n",
       "       'h_ewm_goals_against', 'a_ewm_points', 'a_ewm_goals_for',\n",
       "       'a_ewm_goals_against', 'h_vs_winrate', 'a_vs_winrate'],\n",
       "      dtype='object')"
      ]
     },
     "execution_count": 8,
     "metadata": {},
     "output_type": "execute_result"
    }
   ],
   "source": [
    "df.columns"
   ]
  },
  {
   "cell_type": "code",
   "execution_count": 9,
   "id": "88095cd3-ac00-4712-82ac-0222d333c1ed",
   "metadata": {},
   "outputs": [],
   "source": [
    "X = df.drop(['winner'], axis=1)\n",
    "y = df.winner.values"
   ]
  },
  {
   "cell_type": "code",
   "execution_count": 10,
   "id": "1f0a37e0-6727-4054-b1d8-b1a894ccee99",
   "metadata": {},
   "outputs": [],
   "source": [
    "#splitting into train and test set to check which model is the best one to work on\n",
    "X_train, X_test, y_train, y_test = train_test_split(X, y, test_size = 0.2)"
   ]
  },
  {
   "cell_type": "code",
   "execution_count": 11,
   "id": "93f9d071-1293-4d96-8784-7aa7b28557ff",
   "metadata": {},
   "outputs": [],
   "source": [
    "#scaling features\n",
    "scaler = MinMaxScaler()"
   ]
  },
  {
   "cell_type": "code",
   "execution_count": 12,
   "id": "37cdbb08-b096-49e8-977a-ea1767fe3100",
   "metadata": {},
   "outputs": [],
   "source": [
    "X_train = scaler.fit_transform(X_train)\n",
    "X_test = scaler.fit_transform(X_test)"
   ]
  },
  {
   "cell_type": "code",
   "execution_count": 13,
   "id": "0f8cc5b5-79a9-439c-a0fe-2bd975b41848",
   "metadata": {},
   "outputs": [],
   "source": [
    "#creating models variable to iterate through each model and print result\n",
    "models = [LogisticRegression(max_iter= 1000, multi_class = 'multinomial'),\n",
    "RandomForestClassifier(), GradientBoostingClassifier(), KNeighborsClassifier()]"
   ]
  },
  {
   "cell_type": "code",
   "execution_count": 14,
   "id": "2014b766-bc38-42f3-888e-d4ec6d9165bc",
   "metadata": {},
   "outputs": [],
   "source": [
    "names = ['Logistic Regression', 'Random Forest', 'Gradient Boost', 'KNN']"
   ]
  },
  {
   "cell_type": "code",
   "execution_count": 15,
   "id": "8f3dc119-54bd-44d2-b3bf-d64946648b06",
   "metadata": {},
   "outputs": [
    {
     "name": "stdout",
     "output_type": "stream",
     "text": [
      "Logistic Regression : 0.537, +- 0.024  - Elapsed time:  0.9894213676452637\n",
      "Random Forest : 0.517, +- 0.021  - Elapsed time:  6.600799083709717\n",
      "Gradient Boost : 0.525, +- 0.027  - Elapsed time:  33.381160497665405\n",
      "KNN : 0.425, +- 0.012  - Elapsed time:  0.3583202362060547\n"
     ]
    }
   ],
   "source": [
    "#loop through each model and print train score and elapsed time\n",
    "for model, name in zip(models, names):\n",
    "    start = time.time()\n",
    "    scores = cross_val_score(model, X_train, y_train ,scoring= 'accuracy', cv=10)\n",
    "    print(name, \":\", \"%0.3f, +- %0.3f\" % (scores.mean(), scores.std()), \" - Elapsed time: \", time.time() - start)"
   ]
  },
  {
   "cell_type": "code",
   "execution_count": 16,
   "id": "07932bbf-28e2-4033-b657-beabc292473d",
   "metadata": {},
   "outputs": [
    {
     "name": "stdout",
     "output_type": "stream",
     "text": [
      " Clf result : 0.538, +- 0.013 N_features : 5\n",
      " Clf result : 0.538, +- 0.009 N_features : 6\n",
      " Clf result : 0.535, +- 0.009 N_features : 7\n",
      " Clf result : 0.538, +- 0.012 N_features : 8\n",
      " Clf result : 0.539, +- 0.010 N_features : 9\n",
      " Clf result : 0.539, +- 0.009 N_features : 10\n",
      " Clf result : 0.534, +- 0.010 N_features : 11\n",
      " Clf result : 0.539, +- 0.005 N_features : 12\n",
      " Clf result : 0.538, +- 0.006 N_features : 13\n",
      " Clf result : 0.536, +- 0.007 N_features : 14\n",
      " Clf result : 0.536, +- 0.007 N_features : 15\n",
      " Clf result : 0.537, +- 0.003 N_features : 16\n",
      " Clf result : 0.537, +- 0.002 N_features : 17\n",
      " Clf result : 0.537, +- 0.008 N_features : 18\n",
      " Clf result : 0.538, +- 0.005 N_features : 19\n",
      " Clf result : 0.538, +- 0.005 N_features : 20\n",
      " Clf result : 0.538, +- 0.005 N_features : 21\n",
      " Clf result : 0.538, +- 0.005 N_features : 22\n",
      " Clf result : 0.538, +- 0.005 N_features : 23\n",
      " Clf result : 0.538, +- 0.005 N_features : 24\n",
      " Clf result : 0.538, +- 0.005 N_features : 25\n",
      " Clf result : 0.538, +- 0.005 N_features : 26\n",
      " Clf result : 0.538, +- 0.005 N_features : 27\n",
      " Clf result : 0.538, +- 0.005 N_features : 28\n",
      " Clf result : 0.538, +- 0.005 N_features : 29\n",
      " Clf result : 0.538, +- 0.005 N_features : 30\n",
      " Clf result : 0.538, +- 0.005 N_features : 31\n",
      " Clf result : 0.538, +- 0.005 N_features : 32\n",
      " Clf result : 0.538, +- 0.005 N_features : 33\n",
      " Clf result : 0.538, +- 0.005 N_features : 34\n",
      " Clf result : 0.538, +- 0.005 N_features : 35\n",
      " Clf result : 0.538, +- 0.005 N_features : 36\n",
      " Clf result : 0.538, +- 0.005 N_features : 37\n",
      " Clf result : 0.538, +- 0.005 N_features : 38\n",
      " Clf result : 0.538, +- 0.005 N_features : 39\n"
     ]
    },
    {
     "data": {
      "image/png": "[encoded data removed]",
      "text/plain": [
       "<Figure size 432x288 with 1 Axes>"
      ]
     },
     "metadata": {
      "needs_background": "light"
     },
     "output_type": "display_data"
    }
   ],
   "source": [
    "#Creating loop to test which set of features is the best one for Logistic Regression\n",
    "\n",
    "acc_results = []\n",
    "n_features = []\n",
    "\n",
    "#best classifier on training data\n",
    "clf = LogisticRegression(max_iter = 1000, multi_class = 'multinomial')\n",
    "\n",
    "for i in range(5, 40):\n",
    "    rfe = RFE(estimator = clf, n_features_to_select = i, step=1)\n",
    "    rfe.fit(X, y)\n",
    "    X_temp = rfe.transform(X)\n",
    "\n",
    "    np.random.seed(101)\n",
    "\n",
    "    X_train, X_test, y_train, y_test = train_test_split(X_temp,y, test_size = 0.2)\n",
    "\n",
    "    X_train = scaler.fit_transform(X_train)\n",
    "    X_test = scaler.fit_transform(X_test)\n",
    "\n",
    "    start = time.time()\n",
    "    scores = cross_val_score(clf, X_train, y_train ,scoring= 'accuracy', cv=5)\n",
    "    print(\" Clf result :\", \"%0.3f, +- %0.3f\" % (scores.mean(), scores.std()), 'N_features :', i)\n",
    "    acc_results.append(scores.mean())\n",
    "    n_features.append(i)\n",
    "\n",
    "plt.plot(n_features, acc_results)\n",
    "plt.ylabel('Accuracy')\n",
    "plt.xlabel('N features')\n",
    "plt.show()\n"
   ]
  },
  {
   "cell_type": "code",
   "execution_count": 17,
   "id": "1ae7cf4e-bfd0-48d0-8950-226fa4debf58",
   "metadata": {},
   "outputs": [],
   "source": [
    "#getting the best 13 features from RFE\n",
    "rfe = RFE(estimator = clf, n_features_to_select = 12, step=1)\n",
    "rfe.fit(X, y)\n",
    "X_transformed = rfe.transform(X)\n",
    "\n",
    "np.random.seed(101)\n",
    "X_train, X_test, y_train, y_test = train_test_split(X_transformed,y, test_size = 0.2)\n",
    "\n",
    "X_train = scaler.fit_transform(X_train)\n",
    "X_test = scaler.fit_transform(X_test)"
   ]
  },
  {
   "cell_type": "code",
   "execution_count": 18,
   "id": "8dcfff05-16b1-4240-bcfc-ff1c216cb2d4",
   "metadata": {},
   "outputs": [],
   "source": [
    "#getting column names\n",
    "featured_columns = pd.DataFrame(rfe.support_,\n",
    "                            index = X.columns,\n",
    "                            columns=['is_in'])\n",
    "\n",
    "featured_columns = featured_columns[featured_columns.is_in == True].index.tolist()\n",
    "\n",
    "#column importances for each class\n",
    "importances_d = pd.DataFrame(np.exp(rfe.estimator_.coef_[0]),\n",
    "                            index = featured_columns,\n",
    "                            columns=['coef']).sort_values('coef', ascending = False)\n",
    "\n",
    "importances_a = pd.DataFrame(np.exp(rfe.estimator_.coef_[1]),\n",
    "                            index = featured_columns,\n",
    "                            columns=['coef']).sort_values('coef', ascending = False)\n",
    "\n",
    "importances_h = pd.DataFrame(np.exp(rfe.estimator_.coef_[2]),\n",
    "                            index = featured_columns,\n",
    "                            columns=['coef']).sort_values('coef', ascending = False)"
   ]
  },
  {
   "cell_type": "code",
   "execution_count": 19,
   "id": "4c07d4a7-2a76-46cd-a57a-89dc08083191",
   "metadata": {},
   "outputs": [
    {
     "name": "stdout",
     "output_type": "stream",
     "text": [
      "0.5346153846153846 {'C': 1, 'class_weight': None, 'fit_intercept': True, 'solver': 'newton-cg'} 22.488422393798828\n"
     ]
    },
    {
     "data": {
      "text/plain": [
       "KNeighborsClassifier()"
      ]
     },
     "execution_count": 19,
     "metadata": {},
     "output_type": "execute_result"
    }
   ],
   "source": [
    "#tuning logistic regression\n",
    "parameters = {'C': [0.001, 0.01, 0.1, 1, 10, 100, 1000],\n",
    " 'fit_intercept': (True, False), 'solver' : ('newton-cg', 'sag', 'saga', 'lbfgs'), 'class_weight' : (None, 'balanced')}\n",
    "\n",
    "gs = GridSearchCV(clf, parameters, scoring='accuracy', cv=3)\n",
    "start = time.time()\n",
    "\n",
    "#printing best fits and time elapsed\n",
    "gs.fit(X_train,y_train)\n",
    "print(gs.best_score_, gs.best_params_,  time.time() - start)\n",
    "\n",
    "rf = RandomForestClassifier()\n",
    "rf.fit(X_train, y_train)\n",
    "\n",
    "gb = GradientBoostingClassifier()\n",
    "gb.fit(X_train, y_train)\n",
    "\n",
    "knn = KNeighborsClassifier()\n",
    "knn.fit(X_train, y_train)"
   ]
  },
  {
   "cell_type": "code",
   "execution_count": 20,
   "id": "e6488d2d-d2e4-40c9-b3a5-d38cf36f3039",
   "metadata": {},
   "outputs": [
    {
     "name": "stdout",
     "output_type": "stream",
     "text": [
      "              precision    recall  f1-score   support\n",
      "\n",
      "           0      0.000     0.000     0.000       181\n",
      "           1      0.549     0.545     0.547       246\n",
      "           2      0.566     0.858     0.682       353\n",
      "\n",
      "    accuracy                          0.560       780\n",
      "   macro avg      0.372     0.468     0.410       780\n",
      "weighted avg      0.430     0.560     0.481       780\n",
      "\n",
      "              precision    recall  f1-score   support\n",
      "\n",
      "           0      0.261     0.033     0.059       181\n",
      "           1      0.529     0.557     0.543       246\n",
      "           2      0.566     0.799     0.663       353\n",
      "\n",
      "    accuracy                          0.545       780\n",
      "   macro avg      0.452     0.463     0.421       780\n",
      "weighted avg      0.484     0.545     0.485       780\n",
      "\n",
      "              precision    recall  f1-score   support\n",
      "\n",
      "           0      0.261     0.033     0.059       181\n",
      "           1      0.515     0.610     0.559       246\n",
      "           2      0.592     0.782     0.674       353\n",
      "\n",
      "    accuracy                          0.554       780\n",
      "   macro avg      0.456     0.475     0.430       780\n",
      "weighted avg      0.491     0.554     0.495       780\n",
      "\n",
      "              precision    recall  f1-score   support\n",
      "\n",
      "           0      0.301     0.287     0.294       181\n",
      "           1      0.462     0.472     0.467       246\n",
      "           2      0.584     0.589     0.587       353\n",
      "\n",
      "    accuracy                          0.482       780\n",
      "   macro avg      0.449     0.449     0.449       780\n",
      "weighted avg      0.480     0.482     0.481       780\n",
      "\n"
     ]
    }
   ],
   "source": [
    "#testing models on unseen data \n",
    "tpred_lr = gs.best_estimator_.predict(X_test)\n",
    "tpred_rf = rf.predict(X_test)\n",
    "tpred_gb = gb.predict(X_test)\n",
    "tpred_knn = knn.predict(X_test)\n",
    "\n",
    "print(classification_report(y_test, tpred_lr, digits = 3))\n",
    "print(classification_report(y_test, tpred_rf, digits = 3))\n",
    "print(classification_report(y_test, tpred_gb, digits = 3))\n",
    "print(classification_report(y_test, tpred_knn, digits = 3))"
   ]
  },
  {
   "cell_type": "code",
   "execution_count": 21,
   "id": "6ac39dc7-830d-4cfa-8151-dba9da208deb",
   "metadata": {},
   "outputs": [],
   "source": [
    "#function to get winning odd value in simulation dataset\n",
    "def get_winning_odd(df):\n",
    "    if df.winner == 2:\n",
    "        result = df.h_odd\n",
    "    elif df.winner == 1:\n",
    "        result = df.a_odd\n",
    "    else:\n",
    "        result = df.d_odd\n",
    "    return result"
   ]
  },
  {
   "cell_type": "code",
   "execution_count": 22,
   "id": "d7b2da2e-f7c6-4c0c-af69-ffa678818bc8",
   "metadata": {},
   "outputs": [
    {
     "name": "stdout",
     "output_type": "stream",
     "text": [
      "Logistic Regression return: $-509.0\n",
      "Random Forest return: $-2406.0\n",
      "Gradient Boost return:  $595.0\n",
      "KNN return:  $2093.0 \n",
      "\n",
      "Logistic Regression model profit percentage : -0.65 %\n",
      "\n"
     ]
    }
   ],
   "source": [
    "#creating dataframe with test data to simulate betting winnings with models\n",
    "\n",
    "test_df = pd.DataFrame(scaler.inverse_transform(X_test),columns =  featured_columns)\n",
    "test_df['tpred_lr'] = tpred_lr\n",
    "test_df['tpred_rf'] = tpred_rf\n",
    "test_df['tpred_gb'] = tpred_gb\n",
    "test_df['tpred_knn'] = tpred_knn\n",
    "\n",
    "test_df['winner'] = y_test\n",
    "test_df['winning_odd'] = test_df.apply(lambda x: get_winning_odd(x), axis = 1)\n",
    "\n",
    "test_df['lr_profit'] = (test_df.winner == test_df.tpred_lr) * test_df.winning_odd * 100\n",
    "test_df['rf_profit'] = (test_df.winner == test_df.tpred_rf) * test_df.winning_odd * 100\n",
    "test_df['gb_profit'] = (test_df.winner == test_df.tpred_gb) * test_df.winning_odd * 100\n",
    "test_df['knn_profit'] = (test_df.winner == test_df.tpred_knn) * test_df.winning_odd * 100\n",
    "\n",
    "investment = len(test_df) * 100\n",
    "\n",
    "lr_return = test_df.lr_profit.sum() - investment\n",
    "rf_return = test_df.rf_profit.sum() - investment\n",
    "gb_return = test_df.gb_profit.sum() - investment\n",
    "knn_return = test_df.knn_profit.sum() - investment\n",
    "\n",
    "profit = (lr_return/investment * 100).round(2)\n",
    "\n",
    "print(f'''Logistic Regression return: ${lr_return}\n",
    "Random Forest return: ${rf_return}\n",
    "Gradient Boost return:  ${gb_return}\n",
    "KNN return:  ${knn_return} \\n\n",
    "Logistic Regression model profit percentage : {profit} %\n",
    "''')"
   ]
  },
  {
   "cell_type": "code",
   "execution_count": 23,
   "id": "e3993a76-03dc-4934-89b7-c5c978d9cd56",
   "metadata": {},
   "outputs": [],
   "source": [
    "#retraining final model on full data\n",
    "gs.best_estimator_.fit(X_transformed, y)\n",
    "\n",
    "#Saving model and features\n",
    "model_data = pd.Series( {\n",
    "    'model': gs,\n",
    "    'features': featured_columns\n",
    "} )\n",
    "\n",
    "#saving model\n",
    "pickle.dump(model_data, open(os.path.join(MODEL_DIR, \"lr_model.pkl\"), 'wb'))"
   ]
  }
 ],
 "metadata": {
  "kernelspec": {
   "display_name": "Python 3",
   "language": "python",
   "name": "python3"
  },
  "language_info": {
   "codemirror_mode": {
    "name": "ipython",
    "version": 3
   },
   "file_extension": ".py",
   "mimetype": "text/x-python",
   "name": "python",
   "nbconvert_exporter": "python",
   "pygments_lexer": "ipython3",
   "version": "3.9.5"
  }
 },
 "nbformat": 4,
 "nbformat_minor": 5
}
